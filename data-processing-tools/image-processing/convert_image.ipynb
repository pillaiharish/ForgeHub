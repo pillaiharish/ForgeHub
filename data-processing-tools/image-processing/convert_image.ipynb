{
 "cells": [
  {
   "cell_type": "code",
   "execution_count": 1,
   "id": "2890dccb-3238-4f66-8bb8-93164c9bd90f",
   "metadata": {},
   "outputs": [
    {
     "name": "stdout",
     "output_type": "stream",
     "text": [
      "Collecting pillow\n",
      "  Downloading pillow-11.1.0-cp311-cp311-macosx_11_0_arm64.whl.metadata (9.1 kB)\n",
      "Downloading pillow-11.1.0-cp311-cp311-macosx_11_0_arm64.whl (3.1 MB)\n",
      "\u001b[2K   \u001b[90m━━━━━━━━━━━━━━━━━━━━━━━━━━━━━━━━━━━━━━━━\u001b[0m \u001b[32m3.1/3.1 MB\u001b[0m \u001b[31m3.5 MB/s\u001b[0m eta \u001b[36m0:00:00\u001b[0ma \u001b[36m0:00:01\u001b[0m\n",
      "Installing collected packages: pillow\n",
      "Successfully installed pillow-11.1.0\n",
      "Requirement already satisfied: pip in ./myenv/lib/python3.11/site-packages (24.3.1)\n"
     ]
    }
   ],
   "source": [
    "! pip install pillow\n",
    "! pip install --upgrade pip"
   ]
  },
  {
   "cell_type": "code",
   "execution_count": null,
   "id": "273a2a05-6745-43d7-b7fa-0802f05459ac",
   "metadata": {},
   "outputs": [
    {
     "data": {
      "text/plain": [
       "'/Users/harishkumarpillai/Downloads/llms3.png'"
      ]
     },
     "execution_count": 1,
     "metadata": {},
     "output_type": "execute_result"
    }
   ],
   "source": [
    "from PIL import Image\n",
    "\n",
    "# Load the WEBP image file\n",
    "input_path = \"/Users/harishkumarpillai/Downloads/llms3.webp\"\n",
    "output_path = \"/Users/harishkumarpillai/Downloads/llms3.png\"\n",
    "\n",
    "# Open the image\n",
    "img = Image.open(input_path)\n",
    "# Save the image as PNG\n",
    "img.save(output_path, \"PNG\")\n",
    "output_path\n"
   ]
  }
 ],
 "metadata": {
  "kernelspec": {
   "display_name": "Python 3 (ipykernel)",
   "language": "python",
   "name": "python3"
  },
  "language_info": {
   "codemirror_mode": {
    "name": "ipython",
    "version": 3
   },
   "file_extension": ".py",
   "mimetype": "text/x-python",
   "name": "python",
   "nbconvert_exporter": "python",
   "pygments_lexer": "ipython3",
   "version": "3.11.6"
  }
 },
 "nbformat": 4,
 "nbformat_minor": 5
}
